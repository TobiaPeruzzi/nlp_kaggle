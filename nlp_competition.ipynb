{
 "cells": [
  {
   "cell_type": "markdown",
   "metadata": {},
   "source": [
    "## [SECTION 1]\n",
    "\n",
    "**Importing packages and setting up training and test vectors**"
   ]
  },
  {
   "cell_type": "code",
   "execution_count": 1,
   "metadata": {},
   "outputs": [],
   "source": [
    "import numpy as np\n",
    "import pandas as pd\n",
    "import matplotlib.pyplot as plt\n",
    "import seaborn as sn\n",
    "from sklearn import feature_extraction, linear_model, model_selection, preprocessing, svm\n",
    "from sklearn.metrics import confusion_matrix, balanced_accuracy_score, accuracy_score, roc_curve\n",
    "from sklearn.svm import SVC\n",
    "from sklearn.naive_bayes import GaussianNB"
   ]
  },
  {
   "cell_type": "code",
   "execution_count": 2,
   "metadata": {},
   "outputs": [],
   "source": [
    "seed = 42"
   ]
  },
  {
   "cell_type": "code",
   "execution_count": 3,
   "metadata": {},
   "outputs": [],
   "source": [
    "train_df = pd.read_csv(\"train.csv\")\n",
    "test_df = pd.read_csv(\"test.csv\")"
   ]
  },
  {
   "cell_type": "code",
   "execution_count": 4,
   "metadata": {},
   "outputs": [],
   "source": [
    "count_vectorizer = feature_extraction.text.CountVectorizer()\n",
    "\n",
    "train_vectors = count_vectorizer.fit_transform(train_df[\"text\"])\n",
    "test_vectors = count_vectorizer.transform(test_df[\"text\"])"
   ]
  },
  {
   "cell_type": "markdown",
   "metadata": {},
   "source": [
    "## [SECTION 2]\n",
    "\n",
    "**Dividing the train set in train and validation subsets**"
   ]
  },
  {
   "cell_type": "code",
   "execution_count": 5,
   "metadata": {},
   "outputs": [],
   "source": [
    "# creating training set and validation set\n",
    "m_total = len(train_df[\"target\"])\n",
    "m_validation = (m_total*20)/100\n",
    "m_training = int(m_total - m_validation)\n",
    "\n",
    "permutation = np.random.permutation(train_vectors.shape[0])\n",
    "\n",
    "labels = train_df[\"target\"]\n",
    "\n",
    "train_vectors = train_vectors[permutation]\n",
    "labels = labels[permutation]\n",
    "\n",
    "X_train = train_vectors[:m_training]\n",
    "y_train = labels[:m_training]\n",
    "\n",
    "X_validation = train_vectors[m_training:]\n",
    "y_validation = labels[m_training:]"
   ]
  },
  {
   "cell_type": "code",
   "execution_count": 6,
   "metadata": {},
   "outputs": [
    {
     "name": "stdout",
     "output_type": "stream",
     "text": [
      "Labels in training dataset:  [0 1]\n",
      "Frequencies in training dataset:  [3459 2631]\n",
      "Labels in validation dataset:  [0 1]\n",
      "Frequencies in validation dataset:  [883 640]\n",
      "Ratio of labels in training set: 1.314709236031927\n",
      "Ratio of labels in validation set: 1.3796875\n"
     ]
    }
   ],
   "source": [
    "# Checking if both labels are present in a fair amount in training and validation set\n",
    "\n",
    "labels_train, freqs_train = np.unique(y_train, return_counts=True)\n",
    "print(\"Labels in training dataset: \", labels_train)\n",
    "print(\"Frequencies in training dataset: \", freqs_train)\n",
    "\n",
    "labels_val, freqs_val = np.unique(y_validation, return_counts=True)\n",
    "print(\"Labels in validation dataset: \", labels_val)\n",
    "print(\"Frequencies in validation dataset: \", freqs_val)\n",
    "\n",
    "print('Ratio of labels in training set:', freqs_train[0]/freqs_train[1])\n",
    "print('Ratio of labels in validation set:', freqs_val[0]/freqs_val[1])"
   ]
  },
  {
   "cell_type": "markdown",
   "metadata": {},
   "source": [
    "## [SECTION 3]\n",
    "\n",
    "**Trying various models for prediction**"
   ]
  },
  {
   "cell_type": "markdown",
   "metadata": {},
   "source": [
    "## [SECTION 3.1]\n",
    "\n",
    "**Logistic regression**"
   ]
  },
  {
   "cell_type": "code",
   "execution_count": 7,
   "metadata": {},
   "outputs": [],
   "source": [
    "# Newton-cg as solver to solve convergence issues\n",
    "\n",
    "log_regr = linear_model.LogisticRegression(solver='newton-cg') "
   ]
  },
  {
   "cell_type": "code",
   "execution_count": 8,
   "metadata": {},
   "outputs": [],
   "source": [
    "# Fitting with logistic regression\n",
    "\n",
    "lr_fit = log_regr.fit(X_train, y_train)\n",
    "log_reg_prediction = log_regr.predict(X_validation)"
   ]
  },
  {
   "cell_type": "code",
   "execution_count": 9,
   "metadata": {},
   "outputs": [
    {
     "name": "stdout",
     "output_type": "stream",
     "text": [
      "LogisticRegression training error: 0.027422\n",
      "LogisticRegression validation error: 0.200263\n"
     ]
    }
   ],
   "source": [
    "# LogisticRegression errors\n",
    "\n",
    "training_error_log_reg = 1. - log_regr.score(X_train,y_train)\n",
    "validation_error_log_reg = 1. - log_regr.score(X_validation,y_validation)\n",
    "\n",
    "print (\"LogisticRegression training error: %f\" % training_error_log_reg)\n",
    "print (\"LogisticRegression validation error: %f\" % validation_error_log_reg)"
   ]
  },
  {
   "cell_type": "code",
   "execution_count": 10,
   "metadata": {},
   "outputs": [
    {
     "name": "stdout",
     "output_type": "stream",
     "text": [
      "Accuracy score on validation:  0.7997373604727511 \n",
      "\n",
      "Balanced accuracy on validation:  0.7877335787089468 \n",
      "\n"
     ]
    }
   ],
   "source": [
    "# Confusion matrix and accuracy for logistic regression\n",
    "\n",
    "con_mat_log_reg = confusion_matrix(log_reg_prediction, y_validation)\n",
    "\n",
    "np.set_printoptions(precision=2, suppress=True) \n",
    "\n",
    "u, counts = np.unique(y_validation, return_counts=True)\n",
    "\n",
    "norm_con_mat_logreg = con_mat_log_reg/counts[:,None]\n",
    "\n",
    "accuracy_balanced = balanced_accuracy_score(y_validation, log_reg_prediction)\n",
    "accuracy = accuracy_score(y_validation, log_reg_prediction)\n",
    "\n",
    "print('Accuracy score on validation: ', accuracy, '\\n')\n",
    "print('Balanced accuracy on validation: ', accuracy_balanced, '\\n')"
   ]
  },
  {
   "cell_type": "code",
   "execution_count": 11,
   "metadata": {},
   "outputs": [
    {
     "data": {
      "image/png": "[encoded data removed]",
      "text/plain": [
       "<Figure size 432x288 with 2 Axes>"
      ]
     },
     "metadata": {
      "needs_background": "light"
     },
     "output_type": "display_data"
    }
   ],
   "source": [
    "# Plotting confusion matrix for logistic regression\n",
    "\n",
    "sns_plot = sn.heatmap(norm_con_mat_logreg, annot=True, xticklabels=['Positive (1)', 'Negative (0)'], yticklabels=['Positive (1)', 'Negative (0)'])\n",
    "sns_heatmap = sns_plot.get_figure()\n",
    "plt.tight_layout()\n",
    "plt.title('Confusion matrix normalized for LogReg')\n",
    "plt.ylabel('True label')\n",
    "plt.xlabel('Predicted label')\n",
    "plt.show()"
   ]
  },
  {
   "cell_type": "code",
   "execution_count": 12,
   "metadata": {},
   "outputs": [
    {
     "name": "stdout",
     "output_type": "stream",
     "text": [
      "Best Threshold=0.514610, G-Mean=0.786\n"
     ]
    },
    {
     "data": {
      "text/plain": [
       "<matplotlib.legend.Legend at 0x7ffad2dc4b70>"
      ]
     },
     "execution_count": 12,
     "metadata": {},
     "output_type": "execute_result"
    },
    {
     "data": {
      "image/png": "[encoded data removed]",
      "text/plain": [
       "<Figure size 432x288 with 1 Axes>"
      ]
     },
     "metadata": {
      "needs_background": "light"
     },
     "output_type": "display_data"
    }
   ],
   "source": [
    "# Roc curve for logistic regression\n",
    "\n",
    "yhat = log_regr.predict_proba(X_validation)\n",
    "yhat = yhat[:, 1]\n",
    "fpr, tpr, thresholds = roc_curve(y_validation, yhat)\n",
    "\n",
    "gmeans = np.sqrt(tpr * (1-fpr))\n",
    "ix = np.argmax(gmeans)\n",
    "print('Best Threshold=%f, G-Mean=%.3f' % (thresholds[ix], gmeans[ix]))\n",
    "\n",
    "best_threshold = thresholds[ix]\n",
    "\n",
    "plt.plot([0,1], [0,1], linestyle='--', label='No Skill')\n",
    "plt.plot(fpr, tpr, marker='.', label='Logistic', color='r', linewidth=0.5, markersize=2)\n",
    "plt.scatter(fpr[ix], tpr[ix], marker='o', color='black', label='Best')\n",
    "plt.xlabel('False Positive Rate')\n",
    "plt.ylabel('True Positive Rate')\n",
    "plt.legend()"
   ]
  },
  {
   "cell_type": "code",
   "execution_count": 13,
   "metadata": {},
   "outputs": [
    {
     "name": "stdout",
     "output_type": "stream",
     "text": [
      "Accuracy score on validation (roc curve):  0.8023637557452397 \n",
      "\n",
      "Balanced accuracy on validation (roc curve):  0.789568587202718 \n",
      "\n"
     ]
    }
   ],
   "source": [
    "# Confusion matrix and accuracy for logistic regression (after roc curve)\n",
    "\n",
    "roc_curve_logreg_prediction = np.where(log_regr.predict_proba(X_validation)[:,1] > best_threshold, 1, 0)\n",
    "\n",
    "con_mat_log_reg = confusion_matrix(roc_curve_logreg_prediction, y_validation)\n",
    "\n",
    "np.set_printoptions(precision=2, suppress=True) \n",
    "\n",
    "u, counts = np.unique(y_validation, return_counts=True)\n",
    "\n",
    "norm_con_mat_logreg = con_mat_log_reg/counts[:,None]\n",
    "\n",
    "accuracy_balanced = balanced_accuracy_score(y_validation, roc_curve_logreg_prediction)\n",
    "accuracy = accuracy_score(y_validation, roc_curve_logreg_prediction)\n",
    "\n",
    "print('Accuracy score on validation (roc curve): ', accuracy, '\\n')\n",
    "print('Balanced accuracy on validation (roc curve): ', accuracy_balanced, '\\n')"
   ]
  },
  {
   "cell_type": "code",
   "execution_count": 14,
   "metadata": {},
   "outputs": [
    {
     "data": {
      "image/png": "[encoded data removed]",
      "text/plain": [
       "<Figure size 432x288 with 2 Axes>"
      ]
     },
     "metadata": {
      "needs_background": "light"
     },
     "output_type": "display_data"
    }
   ],
   "source": [
    "# Plotting confusion matrix for logistic regression (after roc curve)\n",
    "\n",
    "sns_plot = sn.heatmap(norm_con_mat_logreg, annot=True, xticklabels=['Positive (1)', 'Negative (0)'], yticklabels=['Positive (1)', 'Negative (0)'])\n",
    "sns_heatmap = sns_plot.get_figure()\n",
    "plt.tight_layout()\n",
    "plt.title('Confusion matrix normalized for LogReg')\n",
    "plt.ylabel('True label')\n",
    "plt.xlabel('Predicted label')\n",
    "plt.show()"
   ]
  },
  {
   "cell_type": "markdown",
   "metadata": {},
   "source": [
    "## [SECTION 3.2]\n",
    "\n",
    "**Support vector machine**"
   ]
  },
  {
   "cell_type": "code",
   "execution_count": 15,
   "metadata": {},
   "outputs": [],
   "source": [
    "# SVM with linear kernel. Parameters are chosen after a gridsearch hyperparameter optimization\n",
    "\n",
    "swag_SVM = svm.SVC(kernel='linear', C=0.08, gamma='auto', probability=True)"
   ]
  },
  {
   "cell_type": "code",
   "execution_count": 16,
   "metadata": {},
   "outputs": [],
   "source": [
    "# Fitting with SVM\n",
    "\n",
    "swag_SVM.fit(X_train, y_train)\n",
    "\n",
    "svm_prediction = swag_SVM.predict(X_validation)"
   ]
  },
  {
   "cell_type": "code",
   "execution_count": 17,
   "metadata": {},
   "outputs": [
    {
     "name": "stdout",
     "output_type": "stream",
     "text": [
      "SVM training error: 0.086535\n",
      "SVM validation error: 0.193040\n"
     ]
    }
   ],
   "source": [
    "# SVM errors\n",
    "\n",
    "training_error = 1. - swag_SVM.score(X_train,y_train)\n",
    "validation_error = 1. - swag_SVM.score(X_validation,y_validation)\n",
    "\n",
    "print (\"SVM training error: %f\" % training_error)\n",
    "print (\"SVM validation error: %f\" % validation_error)"
   ]
  },
  {
   "cell_type": "code",
   "execution_count": 18,
   "metadata": {},
   "outputs": [
    {
     "name": "stdout",
     "output_type": "stream",
     "text": [
      "Accuracy score on validation:  0.8069599474720945 \n",
      "\n",
      "Balanced accuracy on validation:  0.7900923697621745 \n",
      "\n"
     ]
    }
   ],
   "source": [
    "# Confusion matrix and accuracy for SVM\n",
    "\n",
    "con_mat_svm = confusion_matrix(svm_prediction, y_validation)\n",
    "\n",
    "np.set_printoptions(precision=2, suppress=True) \n",
    "\n",
    "u, counts = np.unique(y_validation, return_counts=True)\n",
    "\n",
    "norm_con_mat_svm = con_mat_svm/counts[:,None]\n",
    "\n",
    "accuracy_balanced = balanced_accuracy_score(y_validation, svm_prediction)\n",
    "accuracy = accuracy_score(y_validation, svm_prediction)\n",
    "\n",
    "print('Accuracy score on validation: ', accuracy, '\\n')\n",
    "print('Balanced accuracy on validation: ', accuracy_balanced, '\\n')"
   ]
  },
  {
   "cell_type": "code",
   "execution_count": 19,
   "metadata": {},
   "outputs": [
    {
     "data": {
      "image/png": "[encoded data removed]",
      "text/plain": [
       "<Figure size 432x288 with 2 Axes>"
      ]
     },
     "metadata": {
      "needs_background": "light"
     },
     "output_type": "display_data"
    }
   ],
   "source": [
    "# Plotting confusion matrix for logistic regression\n",
    "\n",
    "sns_plot = sn.heatmap(norm_con_mat_svm, annot=True, xticklabels=['Positive (1)', 'Negative (0)'], yticklabels=['Positive (1)', 'Negative (0)'])\n",
    "sns_heatmap = sns_plot.get_figure()\n",
    "plt.tight_layout()\n",
    "plt.title('Confusion matrix normalized for SVM')\n",
    "plt.ylabel('True label')\n",
    "plt.xlabel('Predicted label')\n",
    "plt.show()"
   ]
  },
  {
   "cell_type": "code",
   "execution_count": 20,
   "metadata": {},
   "outputs": [
    {
     "name": "stdout",
     "output_type": "stream",
     "text": [
      "Best Threshold=0.436062, G-Mean=0.791\n"
     ]
    },
    {
     "data": {
      "text/plain": [
       "<matplotlib.legend.Legend at 0x7ffac0f8deb8>"
      ]
     },
     "execution_count": 20,
     "metadata": {},
     "output_type": "execute_result"
    },
    {
     "data": {
      "image/png": "[encoded data removed]",
      "text/plain": [
       "<Figure size 432x288 with 1 Axes>"
      ]
     },
     "metadata": {
      "needs_background": "light"
     },
     "output_type": "display_data"
    }
   ],
   "source": [
    "# Roc curve for SVM\n",
    "\n",
    "yhat = swag_SVM.predict_proba(X_validation)\n",
    "yhat = yhat[:, 1]\n",
    "fpr, tpr, thresholds = roc_curve(y_validation, yhat)\n",
    "\n",
    "gmeans = np.sqrt(tpr * (1-fpr))\n",
    "ix = np.argmax(gmeans)\n",
    "print('Best Threshold=%f, G-Mean=%.3f' % (thresholds[ix], gmeans[ix]))\n",
    "\n",
    "best_threshold = thresholds[ix]\n",
    "\n",
    "plt.plot([0,1], [0,1], linestyle='--', label='No Skill')\n",
    "plt.plot(fpr, tpr, marker='.', label='SVM', color='r', linewidth=0.5, markersize=2)\n",
    "plt.scatter(fpr[ix], tpr[ix], marker='o', color='black', label='Best')\n",
    "plt.xlabel('False Positive Rate')\n",
    "plt.ylabel('True Positive Rate')\n",
    "plt.legend()"
   ]
  },
  {
   "cell_type": "code",
   "execution_count": 21,
   "metadata": {},
   "outputs": [
    {
     "name": "stdout",
     "output_type": "stream",
     "text": [
      "Accuracy score on validation (roc curve):  0.7984241628365069 \n",
      "\n",
      "Balanced accuracy on validation (roc curve):  0.7917610419026048 \n",
      "\n"
     ]
    }
   ],
   "source": [
    "# Confusion matrix and accuracy for SVM (after roc curve)\n",
    "\n",
    "roc_svm_prediction = np.where(swag_SVM.predict_proba(X_validation)[:,1] > best_threshold, 1, 0)\n",
    "\n",
    "con_mat_svm = confusion_matrix(roc_svm_prediction, y_validation)\n",
    "\n",
    "np.set_printoptions(precision=2, suppress=True) \n",
    "\n",
    "u, counts = np.unique(y_validation, return_counts=True)\n",
    "\n",
    "norm_con_mat_svm = con_mat_svm/counts[:,None]\n",
    "\n",
    "accuracy_balanced = balanced_accuracy_score(y_validation, roc_svm_prediction)\n",
    "accuracy = accuracy_score(y_validation, roc_svm_prediction)\n",
    "\n",
    "print('Accuracy score on validation (roc curve): ', accuracy, '\\n')\n",
    "print('Balanced accuracy on validation (roc curve): ', accuracy_balanced, '\\n')"
   ]
  },
  {
   "cell_type": "code",
   "execution_count": 22,
   "metadata": {},
   "outputs": [
    {
     "data": {
      "image/png": "[encoded data removed]",
      "text/plain": [
       "<Figure size 432x288 with 2 Axes>"
      ]
     },
     "metadata": {
      "needs_background": "light"
     },
     "output_type": "display_data"
    }
   ],
   "source": [
    "# Plotting confusion matrix for SVM\n",
    "\n",
    "sns_plot = sn.heatmap(norm_con_mat_svm, annot=True, xticklabels=['Positive (1)', 'Negative (0)'], yticklabels=['Positive (1)', 'Negative (0)'])\n",
    "sns_heatmap = sns_plot.get_figure()\n",
    "plt.tight_layout()\n",
    "plt.title('Confusion matrix normalized for SVM')\n",
    "plt.ylabel('True label')\n",
    "plt.xlabel('Predicted label')\n",
    "plt.show()"
   ]
  },
  {
   "cell_type": "markdown",
   "metadata": {},
   "source": [
    "## [SECTION 3.3]\n",
    "\n",
    "**Gaussian naive bayes**"
   ]
  },
  {
   "cell_type": "code",
   "execution_count": 23,
   "metadata": {},
   "outputs": [],
   "source": [
    "positive_class = len(y_train[y_train==1])\n",
    "negative_class = len(y_train[y_train==0])\n",
    "total = positive_class + negative_class\n",
    "\n",
    "positive_perc = ((positive_class*100)/total)/100\n",
    "negative_perc = ((negative_class*100)/total)/100"
   ]
  },
  {
   "cell_type": "code",
   "execution_count": 24,
   "metadata": {},
   "outputs": [],
   "source": [
    "naive_by = GaussianNB()"
   ]
  },
  {
   "cell_type": "code",
   "execution_count": 25,
   "metadata": {},
   "outputs": [],
   "source": [
    "naive_by.fit(X_train.toarray(), y_train)\n",
    "by_prediction = naive_by.predict(X_validation.toarray())"
   ]
  },
  {
   "cell_type": "code",
   "execution_count": 26,
   "metadata": {},
   "outputs": [
    {
     "name": "stdout",
     "output_type": "stream",
     "text": [
      "Naive Bayes training error: 0.041872\n",
      "Naive Bayes validation error: 0.381484\n"
     ]
    }
   ],
   "source": [
    "training_error = 1. - naive_by.score(X_train.toarray(),y_train)\n",
    "validation_error = 1. - naive_by.score(X_validation.toarray(),y_validation)\n",
    "\n",
    "print (\"Naive Bayes training error: %f\" % training_error)\n",
    "print (\"Naive Bayes validation error: %f\" % validation_error)"
   ]
  },
  {
   "cell_type": "code",
   "execution_count": 27,
   "metadata": {},
   "outputs": [
    {
     "name": "stdout",
     "output_type": "stream",
     "text": [
      "Accuracy score on validation:  0.618516086671044 \n",
      "\n",
      "Balanced accuracy on validation:  0.6432731101359004 \n",
      "\n"
     ]
    }
   ],
   "source": [
    "# Confusion matrix and accuracy for NaiveBayes\n",
    "\n",
    "con_mat_nb = confusion_matrix(by_prediction, y_validation)\n",
    "\n",
    "np.set_printoptions(precision=2, suppress=True) \n",
    "\n",
    "u, counts = np.unique(y_validation, return_counts=True)\n",
    "\n",
    "norm_con_mat_nb = con_mat_nb/counts[:,None]\n",
    "\n",
    "accuracy_balanced = balanced_accuracy_score(y_validation, by_prediction)\n",
    "accuracy = accuracy_score(y_validation, by_prediction)\n",
    "\n",
    "print('Accuracy score on validation: ', accuracy, '\\n')\n",
    "print('Balanced accuracy on validation: ', accuracy_balanced, '\\n')"
   ]
  },
  {
   "cell_type": "code",
   "execution_count": 28,
   "metadata": {},
   "outputs": [
    {
     "data": {
      "image/png": "[encoded data removed]",
      "text/plain": [
       "<Figure size 432x288 with 2 Axes>"
      ]
     },
     "metadata": {
      "needs_background": "light"
     },
     "output_type": "display_data"
    }
   ],
   "source": [
    "# Plotting confusion matrix for NaiveBayes\n",
    "\n",
    "sns_plot = sn.heatmap(norm_con_mat_nb, annot=True, xticklabels=['Positive (1)', 'Negative (0)'], yticklabels=['Positive (1)', 'Negative (0)'])\n",
    "sns_heatmap = sns_plot.get_figure()\n",
    "plt.tight_layout()\n",
    "plt.title('Confusion matrix normalized for GaussianNB')\n",
    "plt.ylabel('True label')\n",
    "plt.xlabel('Predicted label')\n",
    "plt.show()"
   ]
  },
  {
   "cell_type": "code",
   "execution_count": 29,
   "metadata": {},
   "outputs": [
    {
     "name": "stdout",
     "output_type": "stream",
     "text": [
      "Best Threshold=1.000000, G-Mean=0.626\n"
     ]
    },
    {
     "data": {
      "text/plain": [
       "<matplotlib.legend.Legend at 0x7ff1441ca5c0>"
      ]
     },
     "execution_count": 29,
     "metadata": {},
     "output_type": "execute_result"
    },
    {
     "data": {
      "image/png": "[encoded data removed]",
      "text/plain": [
       "<Figure size 432x288 with 1 Axes>"
      ]
     },
     "metadata": {
      "needs_background": "light"
     },
     "output_type": "display_data"
    }
   ],
   "source": [
    "# Roc curve for NaiveBayes\n",
    "\n",
    "yhat = naive_by.predict_proba(X_validation.toarray())\n",
    "yhat = yhat[:, 1]\n",
    "fpr, tpr, thresholds = roc_curve(y_validation, yhat)\n",
    "\n",
    "gmeans = np.sqrt(tpr * (1-fpr))\n",
    "ix = np.argmax(gmeans)\n",
    "print('Best Threshold=%f, G-Mean=%.3f' % (thresholds[ix], gmeans[ix]))\n",
    "\n",
    "best_threshold = thresholds[ix]\n",
    "\n",
    "plt.plot([0,1], [0,1], linestyle='--', label='No Skill')\n",
    "plt.plot(fpr, tpr, marker='.', label='SVM', color='r', linewidth=0.5, markersize=2)\n",
    "plt.scatter(fpr[ix], tpr[ix], marker='o', color='black', label='Best')\n",
    "plt.xlabel('False Positive Rate')\n",
    "plt.ylabel('True Positive Rate')\n",
    "plt.legend()"
   ]
  },
  {
   "cell_type": "code",
   "execution_count": 30,
   "metadata": {},
   "outputs": [
    {
     "name": "stdout",
     "output_type": "stream",
     "text": [
      "Accuracy score on validation (roc curve):  0.5679579776756402 \n",
      "\n",
      "Balanced accuracy on validation (roc curve):  0.5 \n",
      "\n"
     ]
    }
   ],
   "source": [
    "# Confusion matrix and accuracy for NaiveBayes (after roc curve)\n",
    "\n",
    "roc_nb_prediction = np.where(naive_by.predict_proba(X_validation.toarray())[:,1] > best_threshold, 1, 0)\n",
    "\n",
    "con_mat_nb = confusion_matrix(roc_nb_prediction, y_validation)\n",
    "\n",
    "np.set_printoptions(precision=2, suppress=True) \n",
    "\n",
    "u, counts = np.unique(y_validation, return_counts=True)\n",
    "\n",
    "norm_con_mat_nb = con_mat_nb/counts[:,None]\n",
    "\n",
    "accuracy_balanced = balanced_accuracy_score(y_validation, roc_nb_prediction)\n",
    "accuracy = accuracy_score(y_validation, roc_nb_prediction)\n",
    "\n",
    "print('Accuracy score on validation (roc curve): ', accuracy, '\\n')\n",
    "print('Balanced accuracy on validation (roc curve): ', accuracy_balanced, '\\n')"
   ]
  },
  {
   "cell_type": "code",
   "execution_count": 31,
   "metadata": {},
   "outputs": [
    {
     "data": {
      "image/png": "[encoded data removed]",
      "text/plain": [
       "<Figure size 432x288 with 2 Axes>"
      ]
     },
     "metadata": {
      "needs_background": "light"
     },
     "output_type": "display_data"
    }
   ],
   "source": [
    "# Plotting confusion matrix for NaiveBayes\n",
    "\n",
    "sns_plot = sn.heatmap(norm_con_mat_nb, annot=True, xticklabels=['Positive (1)', 'Negative (0)'], yticklabels=['Positive (1)', 'Negative (0)'])\n",
    "sns_heatmap = sns_plot.get_figure()\n",
    "plt.tight_layout()\n",
    "plt.title('Confusion matrix normalized for GaussianNB')\n",
    "plt.ylabel('True label')\n",
    "plt.xlabel('Predicted label')\n",
    "plt.show()"
   ]
  },
  {
   "cell_type": "markdown",
   "metadata": {},
   "source": [
    "## [SECTION 3.4]\n",
    "\n",
    "**Neural network**"
   ]
  },
  {
   "cell_type": "code",
   "execution_count": 28,
   "metadata": {},
   "outputs": [],
   "source": [
    "from tensorflow.keras.models import Sequential\n",
    "from tensorflow.keras.layers import Dense\n",
    "from tensorflow.keras.layers import Dropout\n",
    "from tensorflow.keras.wrappers.scikit_learn import KerasClassifier\n",
    "\n",
    "\n",
    "def nn_model():\n",
    "    \n",
    "    model = Sequential()\n",
    "    model.add(Dense(16, input_dim=21637, activation='relu'))\n",
    "\n",
    "    model.add(Dropout(0.33))\n",
    "\n",
    "    model.add(Dense(16, activation='relu'))\n",
    "    model.add(Dropout(0.33))\n",
    "\n",
    "    model.add(Dense(16, activation='relu'))\n",
    "    model.add(Dropout(0.33))\n",
    "    model.add(Dense(16, activation='relu'))\n",
    "    model.add(Dropout(0.33))\n",
    "    model.add(Dense(8, activation='relu'))\n",
    "    model.add(Dropout(0.33))\n",
    "    model.add(Dense(8, activation='relu'))\n",
    "    model.add(Dropout(0.33))\n",
    "    model.add(Dense(1, activation='sigmoid'))\n",
    "    model.compile(loss = 'binary_crossentropy', optimizer='adam', metrics=['accuracy'])\n",
    "    return model\n",
    "\n",
    "model = nn_model()"
   ]
  },
  {
   "cell_type": "code",
   "execution_count": 29,
   "metadata": {},
   "outputs": [
    {
     "name": "stdout",
     "output_type": "stream",
     "text": [
      "WARNING:tensorflow:Falling back from v2 loop because of error: Failed to find data adapter that can handle input: <class 'scipy.sparse.csr.csr_matrix'>, <class 'NoneType'>\n",
      "Train on 6090 samples\n",
      "Epoch 1/20\n",
      "6090/6090 [==============================] - 5s 829us/sample - loss: 0.6820 - accuracy: 0.5611\n",
      "Epoch 2/20\n",
      "6090/6090 [==============================] - 3s 466us/sample - loss: 0.6341 - accuracy: 0.5594 - loss: 0.6374 - accura\n",
      "Epoch 3/20\n",
      "6090/6090 [==============================] - 3s 422us/sample - loss: 0.5510 - accuracy: 0.7811\n",
      "Epoch 4/20\n",
      "6090/6090 [==============================] - 3s 434us/sample - loss: 0.4800 - accuracy: 0.8703\n",
      "Epoch 5/20\n",
      "6090/6090 [==============================] - 3s 452us/sample - loss: 0.4165 - accuracy: 0.8967\n",
      "Epoch 6/20\n",
      "6090/6090 [==============================] - 3s 458us/sample - loss: 0.3619 - accuracy: 0.9184\n",
      "Epoch 7/20\n",
      "6090/6090 [==============================] - 3s 431us/sample - loss: 0.3214 - accuracy: 0.9264\n",
      "Epoch 8/20\n",
      "6090/6090 [==============================] - 3s 426us/sample - loss: 0.3010 - accuracy: 0.9319\n",
      "Epoch 9/20\n",
      "6090/6090 [==============================] - 3s 456us/sample - loss: 0.2652 - accuracy: 0.9442\n",
      "Epoch 10/20\n",
      "6090/6090 [==============================] - 3s 449us/sample - loss: 0.2524 - accuracy: 0.9475\n",
      "Epoch 11/20\n",
      "6090/6090 [==============================] - 3s 460us/sample - loss: 0.2418 - accuracy: 0.9456\n",
      "Epoch 12/20\n",
      "6090/6090 [==============================] - 3s 471us/sample - loss: 0.2284 - accuracy: 0.9478\n",
      "Epoch 13/20\n",
      "6090/6090 [==============================] - 3s 451us/sample - loss: 0.2169 - accuracy: 0.9525\n",
      "Epoch 14/20\n",
      "6090/6090 [==============================] - 3s 439us/sample - loss: 0.2007 - accuracy: 0.9550\n",
      "Epoch 15/20\n",
      "6090/6090 [==============================] - 3s 455us/sample - loss: 0.1987 - accuracy: 0.9558\n",
      "Epoch 16/20\n",
      "6090/6090 [==============================] - 3s 503us/sample - loss: 0.1842 - accuracy: 0.9576\n",
      "Epoch 17/20\n",
      "6090/6090 [==============================] - 3s 429us/sample - loss: 0.1840 - accuracy: 0.9603\n",
      "Epoch 18/20\n",
      "6090/6090 [==============================] - 3s 526us/sample - loss: 0.1792 - accuracy: 0.9580\n",
      "Epoch 19/20\n",
      "6090/6090 [==============================] - 3s 510us/sample - loss: 0.1766 - accuracy: 0.9575\n",
      "Epoch 20/20\n",
      "6090/6090 [==============================] - 3s 478us/sample - loss: 0.1636 - accuracy: 0.9614\n"
     ]
    },
    {
     "data": {
      "text/plain": [
       "<tensorflow.python.keras.callbacks.History at 0x7ffac0eca3c8>"
      ]
     },
     "execution_count": 29,
     "metadata": {},
     "output_type": "execute_result"
    }
   ],
   "source": [
    "model.fit(X_train, y_train, epochs=20, batch_size=64)"
   ]
  },
  {
   "cell_type": "code",
   "execution_count": 30,
   "metadata": {},
   "outputs": [
    {
     "name": "stdout",
     "output_type": "stream",
     "text": [
      "WARNING:tensorflow:Falling back from v2 loop because of error: Failed to find data adapter that can handle input: <class 'scipy.sparse.csr.csr_matrix'>, <class 'NoneType'>\n",
      "1523/1523 [==============================] - 1s 493us/sample - loss: 1.4491 - accuracy: 0.7242\n",
      "val_acc: 0.7242285 val_loss 1.4491419073632104\n"
     ]
    }
   ],
   "source": [
    "val_loss, val_acc = model.evaluate(X_validation, y_validation)\n",
    "print('val_acc:', val_acc, 'val_loss', val_loss)"
   ]
  },
  {
   "cell_type": "code",
   "execution_count": 31,
   "metadata": {},
   "outputs": [],
   "source": [
    "nn_pred = model.predict_classes(X_validation.toarray())"
   ]
  },
  {
   "cell_type": "code",
   "execution_count": 32,
   "metadata": {},
   "outputs": [
    {
     "name": "stdout",
     "output_type": "stream",
     "text": [
      "Accuracy score on validation:  0.7242284963887065 \n",
      "\n",
      "Balanced accuracy on validation:  0.7307846121177803 \n",
      "\n"
     ]
    }
   ],
   "source": [
    "# Confusion matrix and accuracy for NN\n",
    "\n",
    "con_mat_nn = confusion_matrix(nn_pred, y_validation)\n",
    "\n",
    "np.set_printoptions(precision=2, suppress=True) \n",
    "\n",
    "u, counts = np.unique(y_validation, return_counts=True)\n",
    "\n",
    "norm_con_mat_nn = con_mat_nb/counts[:,None]\n",
    "\n",
    "accuracy_balanced = balanced_accuracy_score(y_validation, nn_pred)\n",
    "accuracy = accuracy_score(y_validation, nn_pred)\n",
    "\n",
    "print('Accuracy score on validation: ', accuracy, '\\n')\n",
    "print('Balanced accuracy on validation: ', accuracy_balanced, '\\n')"
   ]
  },
  {
   "cell_type": "markdown",
   "metadata": {},
   "source": [
    "## [SECTION 4]\n",
    "\n",
    "**Prediction**"
   ]
  },
  {
   "cell_type": "code",
   "execution_count": 37,
   "metadata": {},
   "outputs": [],
   "source": [
    "# SVM for prediction\n",
    "\n",
    "final_svm = svm.SVC(kernel='linear', C=0.08, gamma='auto', probability=True)\n",
    "\n",
    "final_svm.fit(train_vectors, labels)\n",
    "\n",
    "test_prediction = final_svm.predict(test_vectors)\n",
    "#test_prediction = np.where(final_svm.predict_proba(test_vectors)[:,1] > best_threshold, 1, 0)"
   ]
  },
  {
   "cell_type": "code",
   "execution_count": 38,
   "metadata": {},
   "outputs": [],
   "source": [
    "test_id = test_df['id']"
   ]
  },
  {
   "cell_type": "code",
   "execution_count": 39,
   "metadata": {},
   "outputs": [],
   "source": [
    "submission_df = pd.DataFrame()\n",
    "submission_df['id'] = test_id\n",
    "submission_df['target'] = test_prediction"
   ]
  },
  {
   "cell_type": "code",
   "execution_count": 40,
   "metadata": {},
   "outputs": [],
   "source": [
    "submission_df.to_csv('submission5.csv', index=False)"
   ]
  },
  {
   "cell_type": "code",
   "execution_count": null,
   "metadata": {},
   "outputs": [],
   "source": []
  }
 ],
 "metadata": {
  "kernelspec": {
   "display_name": "Python 3",
   "language": "python",
   "name": "python3"
  },
  "language_info": {
   "codemirror_mode": {
    "name": "ipython",
    "version": 3
   },
   "file_extension": ".py",
   "mimetype": "text/x-python",
   "name": "python",
   "nbconvert_exporter": "python",
   "pygments_lexer": "ipython3",
   "version": "3.7.3"
  }
 },
 "nbformat": 4,
 "nbformat_minor": 2
}
